{
 "cells": [
  {
   "cell_type": "code",
   "execution_count": 1,
   "id": "566520b4",
   "metadata": {},
   "outputs": [],
   "source": [
    "import os\n",
    "import numpy as np\n",
    "import tensorflow as tf\n",
    "import matplotlib.pyplot as plt\n",
    "from tensorflow.keras.preprocessing.image import ImageDataGenerator\n",
    "from tensorflow.keras.applications import VGG16\n",
    "from tensorflow.keras.models import Model\n",
    "from tensorflow.keras.layers import Dense, Flatten, Dropout\n",
    "from tensorflow.keras.optimizers import Adam\n",
    "\n",
    "\n"
   ]
  },
  {
   "cell_type": "code",
   "execution_count": 2,
   "id": "8bc6d554",
   "metadata": {},
   "outputs": [],
   "source": [
    "\n",
    "train_dir = r\"C:\\Users\\dell\\Desktop\\Fine Tuning\\training_set\"\n",
    "test_dir = r\"C:\\Users\\dell\\Desktop\\Fine Tuning\\test_set\"\n",
    "\n"
   ]
  },
  {
   "cell_type": "code",
   "execution_count": 3,
   "id": "651932af",
   "metadata": {},
   "outputs": [],
   "source": [
    "# Step 2: Data Preprocessing & Augmentation\n",
    "train_datagen = ImageDataGenerator(\n",
    "    rescale=1./255,\n",
    "    rotation_range=30,\n",
    "    width_shift_range=0.2,\n",
    "    height_shift_range=0.2,\n",
    "    shear_range=0.2,\n",
    "    zoom_range=0.2,\n",
    "    horizontal_flip=True,\n",
    "    validation_split=0.2  # 20% for validation\n",
    ")\n",
    "\n",
    "test_datagen = ImageDataGenerator(rescale=1./255)\n",
    "\n"
   ]
  },
  {
   "cell_type": "code",
   "execution_count": 4,
   "id": "cac97783",
   "metadata": {},
   "outputs": [
    {
     "name": "stdout",
     "output_type": "stream",
     "text": [
      "Found 6404 images belonging to 2 classes.\n",
      "Found 1601 images belonging to 2 classes.\n"
     ]
    }
   ],
   "source": [
    "# Load Train Data\n",
    "train_generator = train_datagen.flow_from_directory(\n",
    "    train_dir,\n",
    "    target_size=(224, 224),\n",
    "    batch_size=32,\n",
    "    class_mode='binary',\n",
    "    subset='training'\n",
    ")\n",
    "\n",
    "val_generator = train_datagen.flow_from_directory(\n",
    "    train_dir,\n",
    "    target_size=(224, 224),\n",
    "    batch_size=32,\n",
    "    class_mode='binary',\n",
    "    subset='validation'\n",
    ")\n"
   ]
  },
  {
   "cell_type": "code",
   "execution_count": 5,
   "id": "29e74a0d",
   "metadata": {},
   "outputs": [
    {
     "name": "stdout",
     "output_type": "stream",
     "text": [
      "Found 2023 images belonging to 2 classes.\n"
     ]
    }
   ],
   "source": [
    "\n",
    "# Load Test Data\n",
    "test_generator = test_datagen.flow_from_directory(\n",
    "    test_dir,\n",
    "    target_size=(224, 224),\n",
    "    batch_size=32,\n",
    "    class_mode='binary'\n",
    ")\n",
    "\n"
   ]
  },
  {
   "cell_type": "code",
   "execution_count": 6,
   "id": "d5bc9dd1",
   "metadata": {},
   "outputs": [],
   "source": [
    "# Step 3: Load Pretrained VGG16 Model (Before Fine-Tuning)\n",
    "base_model = VGG16(weights='imagenet', include_top=False, input_shape=(224, 224, 3))\n",
    "base_model.trainable = False  # Freezing all layers initially\n",
    "\n"
   ]
  },
  {
   "cell_type": "code",
   "execution_count": 7,
   "id": "45ec17bd",
   "metadata": {},
   "outputs": [],
   "source": [
    "\n",
    "x = Flatten()(base_model.output)\n",
    "x = Dense(256, activation='relu')(x)\n",
    "x = Dropout(0.5)(x)\n",
    "x = Dense(1, activation='sigmoid')(x)  # Binary classification\n",
    "\n",
    "model = Model(inputs=base_model.input, outputs=x)\n",
    "\n"
   ]
  },
  {
   "cell_type": "code",
   "execution_count": 8,
   "id": "8bdbe7ba",
   "metadata": {},
   "outputs": [],
   "source": [
    "\n",
    "model.compile(optimizer=Adam(learning_rate=1e-4), loss='binary_crossentropy', metrics=['accuracy'])\n",
    "\n"
   ]
  },
  {
   "cell_type": "code",
   "execution_count": 9,
   "id": "c9355472",
   "metadata": {},
   "outputs": [
    {
     "name": "stdout",
     "output_type": "stream",
     "text": [
      "Epoch 1/5\n",
      "201/201 [==============================] - 1792s 9s/step - loss: 0.4434 - accuracy: 0.7909 - val_loss: 0.3022 - val_accuracy: 0.8776\n",
      "Epoch 2/5\n",
      "201/201 [==============================] - 1263s 6s/step - loss: 0.3372 - accuracy: 0.8523 - val_loss: 0.2717 - val_accuracy: 0.8844\n",
      "Epoch 3/5\n",
      "201/201 [==============================] - 1313s 7s/step - loss: 0.3013 - accuracy: 0.8691 - val_loss: 0.2801 - val_accuracy: 0.8832\n",
      "Epoch 4/5\n",
      "201/201 [==============================] - 1194s 6s/step - loss: 0.2831 - accuracy: 0.8752 - val_loss: 0.2468 - val_accuracy: 0.8982\n",
      "Epoch 5/5\n",
      "201/201 [==============================] - 1189s 6s/step - loss: 0.2686 - accuracy: 0.8860 - val_loss: 0.2458 - val_accuracy: 0.8888\n"
     ]
    }
   ],
   "source": [
    "\n",
    "history_before = model.fit(\n",
    "    train_generator,\n",
    "    validation_data=val_generator,\n",
    "    epochs=5,\n",
    "    steps_per_epoch=len(train_generator),\n",
    "    validation_steps=len(val_generator)\n",
    ")\n",
    "\n"
   ]
  },
  {
   "cell_type": "code",
   "execution_count": 10,
   "id": "edef3aa7",
   "metadata": {},
   "outputs": [
    {
     "name": "stdout",
     "output_type": "stream",
     "text": [
      "64/64 [==============================] - 306s 5s/step - loss: 0.1825 - accuracy: 0.9179\n",
      "Test Accuracy Before Fine-Tuning: 91.79%\n"
     ]
    }
   ],
   "source": [
    "\n",
    "test_loss_before, test_acc_before = model.evaluate(test_generator)\n",
    "print(f\"Test Accuracy Before Fine-Tuning: {test_acc_before * 100:.2f}%\")\n"
   ]
  },
  {
   "cell_type": "code",
   "execution_count": 11,
   "id": "35ebe3d6",
   "metadata": {},
   "outputs": [
    {
     "name": "stdout",
     "output_type": "stream",
     "text": [
      "201/201 [==============================] - 1546s 8s/step - loss: 0.2189 - accuracy: 0.9091 - val_loss: 0.1675 - val_accuracy: 0.9382\n",
      "64/64 [==============================] - 357s 6s/step - loss: 0.1394 - accuracy: 0.9392\n",
      "Test Accuracy After Fine-Tuning: 93.92%\n"
     ]
    }
   ],
   "source": [
    "\n",
    "for layer in base_model.layers[:15]:\n",
    "    layer.trainable = False  \n",
    "for layer in base_model.layers[15:]:\n",
    "    layer.trainable = True \n",
    "\n",
    "\n",
    "model.compile(optimizer=Adam(learning_rate=1e-5), loss='binary_crossentropy', metrics=['accuracy'])\n",
    "\n",
    "\n",
    "history_after = model.fit(\n",
    "    train_generator,\n",
    "    validation_data=val_generator,\n",
    "    epochs=1,\n",
    "    steps_per_epoch=len(train_generator),\n",
    "    validation_steps=len(val_generator)\n",
    ")\n",
    "\n",
    "\n",
    "test_loss_after, test_acc_after = model.evaluate(test_generator)\n",
    "print(f\"Test Accuracy After Fine-Tuning: {test_acc_after * 100:.2f}%\")\n",
    "\n"
   ]
  },
  {
   "cell_type": "code",
   "execution_count": 12,
   "id": "0b2f5956",
   "metadata": {},
   "outputs": [
    {
     "data": {
      "image/png": "[encoded data removed]",
      "text/plain": [
       "<Figure size 864x360 with 2 Axes>"
      ]
     },
     "metadata": {
      "needs_background": "light"
     },
     "output_type": "display_data"
    }
   ],
   "source": [
    "\n",
    "plt.figure(figsize=(12, 5))\n",
    "\n",
    "\n",
    "plt.subplot(1, 2, 1)\n",
    "plt.plot(history_before.history['loss'], label='Training Loss (Before)')\n",
    "plt.plot(history_before.history['val_loss'], label='Validation Loss (Before)')\n",
    "plt.plot(history_after.history['loss'], label='Training Loss (After)')\n",
    "plt.plot(history_after.history['val_loss'], label='Validation Loss (After)')\n",
    "plt.xlabel('Epochs')\n",
    "plt.ylabel('Loss')\n",
    "plt.title('Loss Over Epochs')\n",
    "plt.legend()\n",
    "\n",
    "\n",
    "plt.subplot(1, 2, 2)\n",
    "plt.plot(history_before.history['accuracy'], label='Training Accuracy (Before)')\n",
    "plt.plot(history_before.history['val_accuracy'], label='Validation Accuracy (Before)')\n",
    "plt.plot(history_after.history['accuracy'], label='Training Accuracy (After)')\n",
    "plt.plot(history_after.history['val_accuracy'], label='Validation Accuracy (After)')\n",
    "plt.xlabel('Epochs')\n",
    "plt.ylabel('Accuracy')\n",
    "plt.title('Accuracy Over Epochs')\n",
    "plt.legend()\n",
    "\n",
    "plt.show()"
   ]
  },
  {
   "cell_type": "markdown",
   "id": "920e7b50",
   "metadata": {},
   "source": [
    "# Thank You"
   ]
  }
 ],
 "metadata": {
  "kernelspec": {
   "display_name": "Python 3 (ipykernel)",
   "language": "python",
   "name": "python3"
  },
  "language_info": {
   "codemirror_mode": {
    "name": "ipython",
    "version": 3
   },
   "file_extension": ".py",
   "mimetype": "text/x-python",
   "name": "python",
   "nbconvert_exporter": "python",
   "pygments_lexer": "ipython3",
   "version": "3.9.7"
  }
 },
 "nbformat": 4,
 "nbformat_minor": 5
}
